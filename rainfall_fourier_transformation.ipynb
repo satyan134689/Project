{
 "cells": [
  {
   "cell_type": "code",
   "execution_count": 1,
   "id": "952a3c98-b71b-47a0-b58c-40b3c453f5a3",
   "metadata": {},
   "outputs": [],
   "source": [
    "import numpy as np\n",
    "import pandas as pd\n",
    "from scipy.fft import fft  # Import FFT\n",
    "from sklearn.model_selection import train_test_split\n",
    "from sklearn.ensemble import RandomForestClassifier\n",
    "from sklearn.metrics import accuracy_score\n",
    "import tensorflow as tf\n",
    "from tensorflow.keras.models import Sequential\n",
    "from tensorflow.keras.layers import Dense"
   ]
  },
  {
   "cell_type": "code",
   "execution_count": 3,
   "id": "5c119a52-d4e9-4d3c-b1ac-4182aaeb54cf",
   "metadata": {},
   "outputs": [],
   "source": [
    "df = pd.read_csv('train.csv')"
   ]
  },
  {
   "cell_type": "code",
   "execution_count": 5,
   "id": "c840d693-2314-40a9-9f2b-eb842b15ef27",
   "metadata": {},
   "outputs": [],
   "source": [
    "X = df.iloc[:, 1:-1].values\n",
    "y = df.iloc[:, -1].values"
   ]
  },
  {
   "cell_type": "code",
   "execution_count": null,
   "id": "3fa20cad-71c9-40e7-ac2d-39336eb1da5e",
   "metadata": {},
   "outputs": [],
   "source": [
    "np.random.seed(42)\n",
    "X = np.sin(2 * np.pi * np.linspace(0, 1, 50)) + np.random.normal(0, 0.1, (100, 50))  # 100 samples, 50 features each\n",
    "y = np.random.choice([0, 1], size=100)  # Binary labels"
   ]
  },
  {
   "cell_type": "code",
   "execution_count": 7,
   "id": "6cdbe8dc-34d8-4d89-a543-3fc3d63e3b2a",
   "metadata": {},
   "outputs": [],
   "source": [
    "X_fft = np.abs(fft(X, axis=1))  # Apply FFT along the time axis"
   ]
  },
  {
   "cell_type": "code",
   "execution_count": 9,
   "id": "b5b8a340-5822-40dc-b346-78f774f789cb",
   "metadata": {},
   "outputs": [],
   "source": [
    "n_features = 10\n",
    "X_features = X_fft[:, :n_features] "
   ]
  },
  {
   "cell_type": "code",
   "execution_count": 11,
   "id": "d8bbbbf9-c1f9-4820-bec7-8d5528d09c0e",
   "metadata": {},
   "outputs": [],
   "source": [
    "X_train, X_test, y_train, y_test = train_test_split(X_features, y, test_size=0.2, random_state=42)"
   ]
  },
  {
   "cell_type": "code",
   "execution_count": 13,
   "id": "c6480893-0c65-49f7-a7ca-a92f191a8dcc",
   "metadata": {},
   "outputs": [
    {
     "name": "stdout",
     "output_type": "stream",
     "text": [
      "Random Forest Accuracy: 0.8151\n"
     ]
    }
   ],
   "source": [
    "rf_model = RandomForestClassifier(n_estimators=100, random_state=42)\n",
    "rf_model.fit(X_train, y_train)\n",
    "y_pred_rf = rf_model.predict(X_test)\n",
    "rf_accuracy = accuracy_score(y_test, y_pred_rf)\n",
    "print(f\"Random Forest Accuracy: {rf_accuracy:.4f}\")"
   ]
  },
  {
   "cell_type": "code",
   "execution_count": 15,
   "id": "1df5b60e-5118-4567-b8bc-838577900e26",
   "metadata": {},
   "outputs": [
    {
     "name": "stderr",
     "output_type": "stream",
     "text": [
      "C:\\Users\\satyan\\anaconda3\\Lib\\site-packages\\keras\\src\\layers\\core\\dense.py:87: UserWarning: Do not pass an `input_shape`/`input_dim` argument to a layer. When using Sequential models, prefer using an `Input(shape)` object as the first layer in the model instead.\n",
      "  super().__init__(activity_regularizer=activity_regularizer, **kwargs)\n"
     ]
    }
   ],
   "source": [
    "ann_model = Sequential([\n",
    "    Dense(32, activation='relu', input_shape=(n_features,)),  # Input layer\n",
    "    Dense(16, activation='relu'),  # Hidden layer\n",
    "    Dense(1, activation='sigmoid')  # Output layer (binary classification)\n",
    "])\n"
   ]
  },
  {
   "cell_type": "code",
   "execution_count": 17,
   "id": "d6627977-294d-48d0-a035-efc031ddf1b5",
   "metadata": {},
   "outputs": [],
   "source": [
    "ann_model.compile(optimizer='adam', loss='binary_crossentropy', metrics=['accuracy'])"
   ]
  },
  {
   "cell_type": "code",
   "execution_count": 19,
   "id": "1a17ef81-6b2b-4448-903f-8c4e038a8319",
   "metadata": {},
   "outputs": [
    {
     "data": {
      "text/plain": [
       "<keras.src.callbacks.history.History at 0x1d80d83f0e0>"
      ]
     },
     "execution_count": 19,
     "metadata": {},
     "output_type": "execute_result"
    }
   ],
   "source": [
    "ann_model.fit(X_train, y_train, epochs=50, batch_size=10, verbose=0)"
   ]
  },
  {
   "cell_type": "code",
   "execution_count": 21,
   "id": "16619e01-388c-4aa4-bbb2-559bb9814844",
   "metadata": {},
   "outputs": [
    {
     "name": "stdout",
     "output_type": "stream",
     "text": [
      "Neural Network Accuracy: 0.7900\n"
     ]
    }
   ],
   "source": [
    "ann_accuracy = ann_model.evaluate(X_test, y_test, verbose=0)[1]  # Get accuracy\n",
    "print(f\"Neural Network Accuracy: {ann_accuracy:.4f}\")"
   ]
  }
 ],
 "metadata": {
  "kernelspec": {
   "display_name": "Python 3 (ipykernel)",
   "language": "python",
   "name": "python3"
  },
  "language_info": {
   "codemirror_mode": {
    "name": "ipython",
    "version": 3
   },
   "file_extension": ".py",
   "mimetype": "text/x-python",
   "name": "python",
   "nbconvert_exporter": "python",
   "pygments_lexer": "ipython3",
   "version": "3.12.7"
  }
 },
 "nbformat": 4,
 "nbformat_minor": 5
}
